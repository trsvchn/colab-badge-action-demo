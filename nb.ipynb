{
  "cells": [
    {
      "cell_type": "markdown",
      "metadata": {
        "badge": true,
        "repo_name": "trsvchn/colab-badge-action-v2-test",
        "branch": "master",
        "nb_path": "nb.ipynb",
        "comment": "This badge cell was added by colab-badge-action"
      },
      "source": [
        "{{ badge }}"
      ]
    }
  ],
  "metadata": {
    "kernelspec": {
      "display_name": "Python 3",
      "language": "python",
      "name": "python3"
    },
    "language_info": {
      "codemirror_mode": {
        "name": "ipython",
        "version": 3
      },
      "file_extension": ".py",
      "mimetype": "text/x-python",
      "name": "python",
      "nbconvert_exporter": "python",
      "pygments_lexer": "ipython3",
      "version": "3.7.6"
    }
  },
  "nbformat": 4,
  "nbformat_minor": 2
}
